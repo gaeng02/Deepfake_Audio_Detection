{
 "cells": [
  {
   "cell_type": "code",
   "execution_count": 1,
   "id": "3d02dd4f",
   "metadata": {},
   "outputs": [],
   "source": [
    "import pandas as pd\n",
    "import os\n",
    "import shutil"
   ]
  },
  {
   "cell_type": "code",
   "execution_count": 2,
   "id": "68f4886e",
   "metadata": {},
   "outputs": [],
   "source": [
    "csv_file = \"sample/train.csv\""
   ]
  },
  {
   "cell_type": "code",
   "execution_count": 3,
   "id": "c11cca18",
   "metadata": {},
   "outputs": [],
   "source": [
    "df = pd.read_csv(csv_file)"
   ]
  },
  {
   "cell_type": "code",
   "execution_count": 4,
   "id": "d8b78f0b",
   "metadata": {},
   "outputs": [],
   "source": [
    "output = \"sample/train\"\n",
    "os.makedirs(output, exist_ok=True)"
   ]
  },
  {
   "cell_type": "code",
   "execution_count": 11,
   "id": "c4882455",
   "metadata": {},
   "outputs": [],
   "source": [
    "for idx, row in df.iterrows():\n",
    "    file_path = os.path.join(\"open\", row[\"path\"])\n",
    "    if os.path.exists(file_path) :\n",
    "        dest_path = os.path.join(output, row[\"id\"]+\".ogg\")\n",
    "        shutil.copy(file_path, dest_path)\n",
    "    else:\n",
    "        print(f\"File not found: {file_path}\")"
   ]
  }
 ],
 "metadata": {
  "kernelspec": {
   "display_name": "Python 3 (ipykernel)",
   "language": "python",
   "name": "python3"
  },
  "language_info": {
   "codemirror_mode": {
    "name": "ipython",
    "version": 3
   },
   "file_extension": ".py",
   "mimetype": "text/x-python",
   "name": "python",
   "nbconvert_exporter": "python",
   "pygments_lexer": "ipython3",
   "version": "3.11.5"
  }
 },
 "nbformat": 4,
 "nbformat_minor": 5
}
