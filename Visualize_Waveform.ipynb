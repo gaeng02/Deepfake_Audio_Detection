{
 "cells": [
  {
   "cell_type": "code",
   "execution_count": 1,
   "id": "3bd8999e",
   "metadata": {},
   "outputs": [],
   "source": [
    "import soundfile as sf\n",
    "import numpy as np\n",
    "import matplotlib.pyplot as plt\n",
    "import pandas as pd\n",
    "import os "
   ]
  },
  {
   "cell_type": "code",
   "execution_count": 2,
   "id": "5c79fcc7",
   "metadata": {},
   "outputs": [],
   "source": [
    "csv_file = \"open/train.csv\"\n",
    "df = pd.read_csv(csv_file)"
   ]
  },
  {
   "cell_type": "code",
   "execution_count": 3,
   "id": "bf0fd935",
   "metadata": {},
   "outputs": [
    {
     "data": {
      "text/plain": [
       "55438"
      ]
     },
     "execution_count": 3,
     "metadata": {},
     "output_type": "execute_result"
    }
   ],
   "source": [
    "len(df)"
   ]
  },
  {
   "cell_type": "code",
   "execution_count": 4,
   "id": "19482092",
   "metadata": {},
   "outputs": [],
   "source": [
    "df = df.head(100)"
   ]
  },
  {
   "cell_type": "code",
   "execution_count": 5,
   "id": "4a662088",
   "metadata": {},
   "outputs": [],
   "source": [
    "image_path = \"test_images\"\n",
    "os.makedirs(image_path, exist_ok=True)"
   ]
  },
  {
   "cell_type": "code",
   "execution_count": 6,
   "id": "6f4428fc",
   "metadata": {},
   "outputs": [],
   "source": [
    "def Visualize (path, title, save) :\n",
    "    data, rate = sf.read(path)\n",
    "    plt.figure(figsize=(10, 4))\n",
    "    plt.plot(data)\n",
    "    plt.title(title)\n",
    "    \n",
    "    # plt.show()\n",
    "    plt.savefig(save)\n",
    "    plt.close()"
   ]
  },
  {
   "cell_type": "code",
   "execution_count": 7,
   "id": "e3836278",
   "metadata": {
    "scrolled": true
   },
   "outputs": [],
   "source": [
    "for idx, row in df.iterrows() :\n",
    "    file_path = \"./open\" + row[\"path\"][1:]\n",
    "    \n",
    "    title = f\"{row['id']}, {row['label']}\"\n",
    "    save_path = os.path.join(image_path, f\"{row['id']}.png\")\n",
    "    visualize(file_path, title, save_path) "
   ]
  }
 ],
 "metadata": {
  "kernelspec": {
   "display_name": "Python 3 (ipykernel)",
   "language": "python",
   "name": "python3"
  },
  "language_info": {
   "codemirror_mode": {
    "name": "ipython",
    "version": 3
   },
   "file_extension": ".py",
   "mimetype": "text/x-python",
   "name": "python",
   "nbconvert_exporter": "python",
   "pygments_lexer": "ipython3",
   "version": "3.11.5"
  }
 },
 "nbformat": 4,
 "nbformat_minor": 5
}
