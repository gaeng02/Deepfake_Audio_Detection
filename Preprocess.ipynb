{
 "cells": [
  {
   "cell_type": "code",
   "execution_count": 24,
   "id": "eb74ad9c",
   "metadata": {},
   "outputs": [],
   "source": [
    "# pip install librosa soundfile numpy"
   ]
  },
  {
   "cell_type": "code",
   "execution_count": null,
   "id": "d0d9c123",
   "metadata": {},
   "outputs": [],
   "source": [
    "import os\n",
    "import numpy as np\n",
    "import librosa\n",
    "import soundfile as sf"
   ]
  },
  {
   "cell_type": "code",
   "execution_count": 25,
   "id": "31553487",
   "metadata": {},
   "outputs": [],
   "source": [
    "real_dir = \"./real\"\n",
    "fake_dir = \"./fake\"\n",
    "pre_real_dir = \"./pre_real\"\n",
    "pre_fake_dir = \"./pre_fake\""
   ]
  },
  {
   "cell_type": "code",
   "execution_count": 5,
   "id": "80748051",
   "metadata": {},
   "outputs": [],
   "source": [
    "os.makedirs(pre_real_dir, exist_ok=True)\n",
    "os.makedirs(pre_fake_dir, exist_ok=True)"
   ]
  },
  {
   "cell_type": "code",
   "execution_count": 6,
   "id": "d6c1ae79",
   "metadata": {},
   "outputs": [],
   "source": [
    "sample_rate = 48000\n",
    "duration = 2 # 2 second"
   ]
  },
  {
   "cell_type": "code",
   "execution_count": 26,
   "id": "270d6ca6",
   "metadata": {},
   "outputs": [],
   "source": [
    "def preprocess_audio (input_path, output_path) : \n",
    "    \n",
    "    sample_rate = 48000\n",
    "    duration = 2 # 2 second\n",
    "    \n",
    "    data, sr = librosa.load(input_path, sr = sample_rate) \n",
    "    \n",
    "    max_index = np.argmax(np.abs(data))\n",
    "    \n",
    "    start_index = max_index\n",
    "    end_index = start_index + duration * sample_rate\n",
    "    \n",
    "    # padding 방식 사용\n",
    "    if end_index > len(data) : \n",
    "        padding = end_index - len(data)\n",
    "        data = np.pad(data, (0, padding), \"constant\")\n",
    "        \n",
    "    segment = data[start_index : end_index]\n",
    "    \n",
    "    sf.write(output_path, segment, sample_rate)"
   ]
  },
  {
   "cell_type": "code",
   "execution_count": 27,
   "id": "b6bda5e4",
   "metadata": {},
   "outputs": [],
   "source": [
    "def preprocess (input_dir, output_dir) :\n",
    "    \n",
    "    print(f\"Start :: {input_dir}\")\n",
    "    \n",
    "    for file_name in os.listdir (input_dir) : \n",
    "        if file_name.endswith(\".ogg\") : \n",
    "            file_path = os.path.join(input_dir, file_name)\n",
    "            output_path = os.path.join(output_dir, file_name)\n",
    "            \n",
    "            preprocess_audio(file_path, output_path)\n",
    "            \n",
    "    print(f\"Done :: {input_dir}\")\n",
    "    "
   ]
  },
  {
   "cell_type": "code",
   "execution_count": 28,
   "id": "10030232",
   "metadata": {},
   "outputs": [],
   "source": [
    "test_dir = \"./train\"\n",
    "pre_test_dir = \"./pre_train\""
   ]
  },
  {
   "cell_type": "code",
   "execution_count": 29,
   "id": "544492e2",
   "metadata": {},
   "outputs": [
    {
     "name": "stdout",
     "output_type": "stream",
     "text": [
      "Start :: ./train\n",
      "Done :: ./train\n"
     ]
    }
   ],
   "source": [
    "preprocess (test_dir, pre_test_dir)"
   ]
  },
  {
   "cell_type": "code",
   "execution_count": 23,
   "id": "d7d1516e",
   "metadata": {},
   "outputs": [
    {
     "name": "stdout",
     "output_type": "stream",
     "text": [
      "Start :: ./real\n",
      "Done :: ./real\n",
      "Start :: ./fake\n",
      "Done :: ./fake\n"
     ]
    }
   ],
   "source": [
    "'''\n",
    "real_dir = \"./real\"\n",
    "fake_dir = \"./fake\"\n",
    "pre_real_dir = \"./pre_real\"\n",
    "pre_fake_dir = \"./pre_fake\"\n",
    "'''\n",
    "preprocess (real_dir, pre_real_dir)\n",
    "preprocess (fake_dir, pre_fake_dir)"
   ]
  }
 ],
 "metadata": {
  "kernelspec": {
   "display_name": "Python 3 (ipykernel)",
   "language": "python",
   "name": "python3"
  },
  "language_info": {
   "codemirror_mode": {
    "name": "ipython",
    "version": 3
   },
   "file_extension": ".py",
   "mimetype": "text/x-python",
   "name": "python",
   "nbconvert_exporter": "python",
   "pygments_lexer": "ipython3",
   "version": "3.11.5"
  }
 },
 "nbformat": 4,
 "nbformat_minor": 5
}
