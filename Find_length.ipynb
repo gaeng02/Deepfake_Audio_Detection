{
 "cells": [
  {
   "cell_type": "code",
   "execution_count": 1,
   "id": "5f09c34b",
   "metadata": {},
   "outputs": [],
   "source": [
    "import os\n",
    "import torchaudio"
   ]
  },
  {
   "cell_type": "code",
   "execution_count": 2,
   "id": "9f78c7c0",
   "metadata": {},
   "outputs": [],
   "source": [
    "def find_length () : \n",
    "    M, m = 0, 1237870\n",
    "    path = [\"./real\", \"./fake\"]\n",
    "    \n",
    "    for p in path : \n",
    "        for file_name in os.listdir(p) : \n",
    "            if file_name.endswith(\".ogg\") : \n",
    "                file_path = os.path.join(p, file_name)\n",
    "                wf, sr = torchaudio.load(file_path)\n",
    "\n",
    "                M = max(M, wf.shape[1])\n",
    "                m = min(m, wf.shape[1])\n",
    "                \n",
    "    return [M, m]"
   ]
  },
  {
   "cell_type": "code",
   "execution_count": 3,
   "id": "ed74af92",
   "metadata": {},
   "outputs": [
    {
     "data": {
      "text/plain": [
       "[1237870, 3380]"
      ]
     },
     "execution_count": 3,
     "metadata": {},
     "output_type": "execute_result"
    }
   ],
   "source": [
    "length = find_length()\n",
    "length"
   ]
  },
  {
   "cell_type": "code",
   "execution_count": 4,
   "id": "468eed4c",
   "metadata": {},
   "outputs": [],
   "source": [
    "M, m = 1237870, 3380"
   ]
  },
  {
   "cell_type": "code",
   "execution_count": 5,
   "id": "c59169be",
   "metadata": {},
   "outputs": [],
   "source": [
    "def find_object (m) :\n",
    "    path = [\"./real\", \"./fake\"]\n",
    "    for p in path : \n",
    "        for file_name in os.listdir(p) :\n",
    "            if file_name.endswith(\".ogg\") : \n",
    "                    file_path = os.path.join(p, file_name)\n",
    "                    wf, sr = torchaudio.load(file_path)\n",
    "\n",
    "                    if wf.shape[1] == m : print(file_path); return"
   ]
  },
  {
   "cell_type": "code",
   "execution_count": 6,
   "id": "d4c2c16f",
   "metadata": {},
   "outputs": [
    {
     "name": "stdout",
     "output_type": "stream",
     "text": [
      "./real\\GWHZNYJD.ogg\n",
      "./real\\ALKRDVFF.ogg\n"
     ]
    }
   ],
   "source": [
    "find_object(M)\n",
    "find_object(m)"
   ]
  }
 ],
 "metadata": {
  "kernelspec": {
   "display_name": "Python 3 (ipykernel)",
   "language": "python",
   "name": "python3"
  },
  "language_info": {
   "codemirror_mode": {
    "name": "ipython",
    "version": 3
   },
   "file_extension": ".py",
   "mimetype": "text/x-python",
   "name": "python",
   "nbconvert_exporter": "python",
   "pygments_lexer": "ipython3",
   "version": "3.11.5"
  }
 },
 "nbformat": 4,
 "nbformat_minor": 5
}
